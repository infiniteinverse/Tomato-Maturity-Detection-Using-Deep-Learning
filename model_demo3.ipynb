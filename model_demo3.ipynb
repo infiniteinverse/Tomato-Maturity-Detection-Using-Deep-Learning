{
 "cells": [
  {
   "cell_type": "code",
   "execution_count": 1,
   "id": "0ee8ed90-1432-4a4b-8458-a6c9c068e951",
   "metadata": {},
   "outputs": [],
   "source": [
    "import numpy as np\n",
    "import tensorflow as tf\n",
    "from tensorflow import keras\n",
    "from tensorflow.keras import layers\n",
    "from tensorflow.keras.models import Model\n",
    "from tensorflow.keras.layers import Dense, GlobalAveragePooling2D, Conv2D, Input,MaxPooling2D,Flatten\n",
    "from tensorflow.keras.preprocessing.image import ImageDataGenerator"
   ]
  },
  {
   "cell_type": "code",
   "execution_count": 2,
   "id": "922071e0-2555-4ec6-bb8b-efd4801af616",
   "metadata": {},
   "outputs": [],
   "source": [
    "# data specifications:\n",
    "tf.random.set_seed(42)\n",
    "\n",
    "IMG_SIZE = (180,180)\n",
    "BATCH_SIZE = 32\n",
    "EPOCHS = 15\n",
    "NUM_CLASSES = 5\n",
    "_input = Input((180,180,3))"
   ]
  },
  {
   "cell_type": "code",
   "execution_count": 3,
   "id": "8d069c74-ac48-4691-892d-d4d1f8e2d904",
   "metadata": {},
   "outputs": [
    {
     "name": "stdout",
     "output_type": "stream",
     "text": [
      "Found 4100 images belonging to 5 classes.\n",
      "Found 1022 images belonging to 5 classes.\n",
      "Found 1275 images belonging to 5 classes.\n"
     ]
    }
   ],
   "source": [
    "IMG_SIZE = (180,180)\n",
    "BATCH_SIZE = 32\n",
    "EPOCHS = 15\n",
    "NUM_CLASSES = 5\n",
    "_input = Input((180,180,3))\n",
    "\n",
    "train_datagen = ImageDataGenerator(\n",
    "    rescale=1./255,\n",
    "    rotation_range=20,\n",
    "    width_shift_range=0.2,\n",
    "    height_shift_range=0.2,\n",
    "    horizontal_flip=True,\n",
    "    validation_split=0.2\n",
    ")\n",
    "\n",
    "train_generator = train_datagen.flow_from_directory(\n",
    "    'Training_set',\n",
    "    target_size=IMG_SIZE,\n",
    "    batch_size=BATCH_SIZE,\n",
    "    class_mode='sparse',\n",
    "    subset='training'\n",
    ")\n",
    "\n",
    "validation_generator = train_datagen.flow_from_directory(\n",
    "    'Training_set',\n",
    "    target_size=IMG_SIZE,\n",
    "    batch_size=BATCH_SIZE,\n",
    "    class_mode='sparse',\n",
    "    subset='validation'\n",
    ")\n",
    "\n",
    "test_datagen = ImageDataGenerator(rescale=1./255)\n",
    "\n",
    "test_generator = test_datagen.flow_from_directory(\n",
    "    'Testing_set',\n",
    "    target_size=IMG_SIZE,\n",
    "    batch_size=BATCH_SIZE,\n",
    "    class_mode='sparse'\n",
    ")\n",
    "\n",
    "\n",
    "# augmentation will have to made ... "
   ]
  },
  {
   "cell_type": "code",
   "execution_count": 13,
   "id": "e6f8d0c5-0e5c-4210-a0e9-2d0a7511e541",
   "metadata": {},
   "outputs": [],
   "source": [
    "conv1  = Conv2D(filters=8, kernel_size=(3,3), padding=\"same\", activation=\"relu\")(_input)\n",
    "conv2  = Conv2D(filters=8, kernel_size=(3,3), padding=\"same\", activation=\"relu\")(conv1)\n",
    "pool1  = MaxPooling2D((2, 2))(conv2)\n",
    "\n",
    "conv3  = Conv2D(filters=16, kernel_size=(3,3), padding=\"same\", activation=\"relu\")(pool1)\n",
    "conv4  = Conv2D(filters=16, kernel_size=(3,3), padding=\"same\", activation=\"relu\")(conv3)\n",
    "pool2  = MaxPooling2D((2, 2))(conv4)\n",
    "\n",
    "conv5  = Conv2D(filters=32, kernel_size=(3,3), padding=\"same\", activation=\"relu\")(pool2)\n",
    "conv6  = Conv2D(filters=32, kernel_size=(3,3), padding=\"same\", activation=\"relu\")(conv5)\n",
    "conv7  = Conv2D(filters=32, kernel_size=(3,3), padding=\"same\", activation=\"relu\")(conv6)\n",
    "pool3  = MaxPooling2D((2, 2))(conv7)\n",
    "\n",
    "conv8  = Conv2D(filters=64, kernel_size=(3,3), padding=\"same\", activation=\"relu\")(pool3)\n",
    "conv9  = Conv2D(filters=64, kernel_size=(3,3), padding=\"same\", activation=\"relu\")(conv8)\n",
    "conv10 = Conv2D(filters=64, kernel_size=(3,3), padding=\"same\", activation=\"relu\")(conv9)\n",
    "pool4  = MaxPooling2D((2, 2))(conv10)\n",
    "\n",
    "conv11 = Conv2D(filters=64, kernel_size=(3,3), padding=\"same\", activation=\"relu\")(pool4)\n",
    "conv12 = Conv2D(filters=64, kernel_size=(3,3), padding=\"same\", activation=\"relu\")(conv11)\n",
    "conv13 = Conv2D(filters=64, kernel_size=(3,3), padding=\"same\", activation=\"relu\")(conv12)\n",
    "pool5  = MaxPooling2D((2, 2))(conv13)\n",
    "\n",
    "flat   = Flatten()(pool5)\n",
    "dense1 = Dense(256, activation=\"relu\")(flat)\n",
    "dense2 = Dense(256, activation=\"relu\")(dense1)\n",
    "output = Dense(5, activation=\"softmax\")(dense2)\n",
    "\n",
    "model  = Model(inputs=_input, outputs=output)"
   ]
  },
  {
   "cell_type": "code",
   "execution_count": 14,
   "id": "bc52af08-4545-49c3-af1a-4a2dfca12dc2",
   "metadata": {},
   "outputs": [
    {
     "name": "stdout",
     "output_type": "stream",
     "text": [
      "Model: \"model_2\"\n",
      "_________________________________________________________________\n",
      " Layer (type)                Output Shape              Param #   \n",
      "=================================================================\n",
      " input_1 (InputLayer)        [(None, 180, 180, 3)]     0         \n",
      "                                                                 \n",
      " conv2d_26 (Conv2D)          (None, 180, 180, 8)       224       \n",
      "                                                                 \n",
      " conv2d_27 (Conv2D)          (None, 180, 180, 8)       584       \n",
      "                                                                 \n",
      " max_pooling2d_10 (MaxPoolin  (None, 90, 90, 8)        0         \n",
      " g2D)                                                            \n",
      "                                                                 \n",
      " conv2d_28 (Conv2D)          (None, 90, 90, 16)        1168      \n",
      "                                                                 \n",
      " conv2d_29 (Conv2D)          (None, 90, 90, 16)        2320      \n",
      "                                                                 \n",
      " max_pooling2d_11 (MaxPoolin  (None, 45, 45, 16)       0         \n",
      " g2D)                                                            \n",
      "                                                                 \n",
      " conv2d_30 (Conv2D)          (None, 45, 45, 32)        4640      \n",
      "                                                                 \n",
      " conv2d_31 (Conv2D)          (None, 45, 45, 32)        9248      \n",
      "                                                                 \n",
      " conv2d_32 (Conv2D)          (None, 45, 45, 32)        9248      \n",
      "                                                                 \n",
      " max_pooling2d_12 (MaxPoolin  (None, 22, 22, 32)       0         \n",
      " g2D)                                                            \n",
      "                                                                 \n",
      " conv2d_33 (Conv2D)          (None, 22, 22, 64)        18496     \n",
      "                                                                 \n",
      " conv2d_34 (Conv2D)          (None, 22, 22, 64)        36928     \n",
      "                                                                 \n",
      " conv2d_35 (Conv2D)          (None, 22, 22, 64)        36928     \n",
      "                                                                 \n",
      " max_pooling2d_13 (MaxPoolin  (None, 11, 11, 64)       0         \n",
      " g2D)                                                            \n",
      "                                                                 \n",
      " conv2d_36 (Conv2D)          (None, 11, 11, 64)        36928     \n",
      "                                                                 \n",
      " conv2d_37 (Conv2D)          (None, 11, 11, 64)        36928     \n",
      "                                                                 \n",
      " conv2d_38 (Conv2D)          (None, 11, 11, 64)        36928     \n",
      "                                                                 \n",
      " max_pooling2d_14 (MaxPoolin  (None, 5, 5, 64)         0         \n",
      " g2D)                                                            \n",
      "                                                                 \n",
      " flatten_2 (Flatten)         (None, 1600)              0         \n",
      "                                                                 \n",
      " dense_6 (Dense)             (None, 256)               409856    \n",
      "                                                                 \n",
      " dense_7 (Dense)             (None, 256)               65792     \n",
      "                                                                 \n",
      " dense_8 (Dense)             (None, 5)                 1285      \n",
      "                                                                 \n",
      "=================================================================\n",
      "Total params: 707,501\n",
      "Trainable params: 707,501\n",
      "Non-trainable params: 0\n",
      "_________________________________________________________________\n"
     ]
    }
   ],
   "source": [
    "model.summary()"
   ]
  },
  {
   "cell_type": "code",
   "execution_count": 15,
   "id": "a1d225b3-9fed-4ae2-bdf2-f9bccf4b3a1e",
   "metadata": {},
   "outputs": [],
   "source": [
    "from tensorflow.keras.optimizers import Adam\n",
    "\n",
    "\n",
    "model.compile(optimizer=Adam(), \n",
    "              loss=tf.keras.losses.SparseCategoricalCrossentropy(from_logits=False),\n",
    "              metrics=['accuracy'])\n"
   ]
  },
  {
   "cell_type": "code",
   "execution_count": null,
   "id": "9735050f-74a4-4b72-b1c8-0edef245ebc5",
   "metadata": {},
   "outputs": [
    {
     "name": "stdout",
     "output_type": "stream",
     "text": [
      "Epoch 1/30\n",
      "129/129 [==============================] - 175s 1s/step - loss: 1.3746 - accuracy: 0.5207 - val_loss: 1.3432 - val_accuracy: 0.5225\n",
      "Epoch 2/30\n",
      "129/129 [==============================] - 85s 659ms/step - loss: 1.3513 - accuracy: 0.5220 - val_loss: 1.3424 - val_accuracy: 0.5225\n",
      "Epoch 3/30\n",
      "129/129 [==============================] - 85s 661ms/step - loss: 1.3263 - accuracy: 0.5220 - val_loss: 1.2992 - val_accuracy: 0.5225\n",
      "Epoch 4/30\n",
      "129/129 [==============================] - 85s 658ms/step - loss: 1.2418 - accuracy: 0.5220 - val_loss: 1.2604 - val_accuracy: 0.5225\n",
      "Epoch 5/30\n",
      "129/129 [==============================] - 85s 660ms/step - loss: 1.2074 - accuracy: 0.5220 - val_loss: 1.2400 - val_accuracy: 0.5225\n",
      "Epoch 6/30\n",
      "129/129 [==============================] - 88s 684ms/step - loss: 1.2218 - accuracy: 0.5220 - val_loss: 1.2766 - val_accuracy: 0.5225\n",
      "Epoch 7/30\n",
      "129/129 [==============================] - 85s 655ms/step - loss: 1.2208 - accuracy: 0.5220 - val_loss: 1.2307 - val_accuracy: 0.5225\n",
      "Epoch 8/30\n",
      " 83/129 [==================>...........] - ETA: 24s - loss: 1.2017 - accuracy: 0.5160"
     ]
    }
   ],
   "source": [
    "history = model.fit(train_generator,validation_data=validation_generator,epochs=30,batch_size=32)"
   ]
  },
  {
   "cell_type": "code",
   "execution_count": null,
   "id": "01fc7bab-0812-4275-a4e2-676effb8a416",
   "metadata": {},
   "outputs": [],
   "source": [
    "model = tf.keras.models.load_model('tomato_classifier_tf.h5')\n",
    "\n",
    "\n",
    "model.compile(optimizer='adam',\n",
    "              loss='sparse_categorical_crossentropy',  \n",
    "              metrics=['accuracy'])  \n",
    "\n",
    "\n",
    "history = model.fit(train_generator, validation_data= validation_generator, \n",
    "                    epochs=10,  \n",
    "                    batch_size=32) \n",
    "\n",
    "\n",
    "model.save('tomato_classifier_tf_updated.h5')\n"
   ]
  }
 ],
 "metadata": {
  "kernelspec": {
   "display_name": "Python 3 (ipykernel)",
   "language": "python",
   "name": "python3"
  },
  "language_info": {
   "codemirror_mode": {
    "name": "ipython",
    "version": 3
   },
   "file_extension": ".py",
   "mimetype": "text/x-python",
   "name": "python",
   "nbconvert_exporter": "python",
   "pygments_lexer": "ipython3",
   "version": "3.9.18"
  }
 },
 "nbformat": 4,
 "nbformat_minor": 5
}
