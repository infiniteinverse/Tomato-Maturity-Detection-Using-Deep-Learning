{
 "cells": [
  {
   "cell_type": "markdown",
   "id": "dbc9243c-a961-4a65-8790-1b818cabc1c2",
   "metadata": {},
   "source": [
    "### ViT "
   ]
  },
  {
   "cell_type": "code",
   "execution_count": null,
   "id": "5ad66fe5-db0c-4e8a-9109-ef2b400e55b1",
   "metadata": {},
   "outputs": [],
   "source": []
  },
  {
   "cell_type": "code",
   "execution_count": null,
   "id": "7a39a8a7-9a60-49aa-a43c-67685af003b5",
   "metadata": {},
   "outputs": [],
   "source": []
  },
  {
   "cell_type": "code",
   "execution_count": null,
   "id": "b1e0cc2f-2ff4-4dab-90f6-e1724dbe6f20",
   "metadata": {},
   "outputs": [],
   "source": []
  },
  {
   "cell_type": "code",
   "execution_count": null,
   "id": "e6901cb4-3399-4c8d-9171-64c6dd74f5e3",
   "metadata": {},
   "outputs": [],
   "source": []
  },
  {
   "cell_type": "code",
   "execution_count": null,
   "id": "34b169cc-5135-4a43-90d5-be1a87ff49c3",
   "metadata": {},
   "outputs": [],
   "source": []
  }
 ],
 "metadata": {
  "kernelspec": {
   "display_name": "Python 3 (ipykernel)",
   "language": "python",
   "name": "python3"
  },
  "language_info": {
   "codemirror_mode": {
    "name": "ipython",
    "version": 3
   },
   "file_extension": ".py",
   "mimetype": "text/x-python",
   "name": "python",
   "nbconvert_exporter": "python",
   "pygments_lexer": "ipython3",
   "version": "3.9.18"
  }
 },
 "nbformat": 4,
 "nbformat_minor": 5
}
