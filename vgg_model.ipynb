{
 "cells": [
  {
   "cell_type": "code",
   "execution_count": 21,
   "id": "89588937-c029-4579-b160-193b1d3b9ed8",
   "metadata": {},
   "outputs": [],
   "source": [
    "import tensorflow as tf\n",
    "from tensorflow.keras.applications import DenseNet121\n",
    "from tensorflow.keras.models import Model\n",
    "from tensorflow.keras.layers import Dense, GlobalAveragePooling2D\n",
    "from tensorflow.keras.preprocessing.image import ImageDataGenerator\n",
    "# import tensorflow as tf\n",
    "# from tensorflow.keras.applications import DenseNet121\n",
    "from tensorflow.keras.models import Model\n",
    "from tensorflow.keras.layers import Dense, GlobalAveragePooling2D, Conv2D, Input,MaxPooling2D,Flatten\n",
    "from tensorflow.keras.preprocessing.image import ImageDataGenerator\n",
    "from tensorflow.keras import layers\n"
   ]
  },
  {
   "cell_type": "code",
   "execution_count": 22,
   "id": "b67a47f6-fa0f-44a9-981d-9258e8fdf1fd",
   "metadata": {},
   "outputs": [],
   "source": [
    "# Set random seed for reproducibility\n",
    "tf.random.set_seed(42)\n",
    "\n",
    "# Define parameters\n",
    "IMG_SIZE = (180,180)\n",
    "BATCH_SIZE = 32\n",
    "EPOCHS = 15\n",
    "NUM_CLASSES = 5\n",
    "_input = Input((180,180,3))"
   ]
  },
  {
   "cell_type": "code",
   "execution_count": 23,
   "id": "1fedf556-6b54-4edc-afb4-3d0ac24e568f",
   "metadata": {},
   "outputs": [
    {
     "name": "stdout",
     "output_type": "stream",
     "text": [
      "Found 4100 images belonging to 5 classes.\n",
      "Found 1022 images belonging to 5 classes.\n"
     ]
    }
   ],
   "source": [
    "# Set up data generators\n",
    "train_datagen = ImageDataGenerator(\n",
    "    rescale=1./255,\n",
    "    rotation_range=20,\n",
    "    width_shift_range=0.2,\n",
    "    height_shift_range=0.2,\n",
    "    horizontal_flip=True,\n",
    "    validation_split=0.2\n",
    ")\n",
    "\n",
    "train_generator = train_datagen.flow_from_directory(\n",
    "    'Training_set',\n",
    "    target_size=IMG_SIZE,\n",
    "    batch_size=BATCH_SIZE,\n",
    "    class_mode='sparse',\n",
    "    subset='training'\n",
    ")\n",
    "\n",
    "validation_generator = train_datagen.flow_from_directory(\n",
    "    'Training_set',\n",
    "    target_size=IMG_SIZE,\n",
    "    batch_size=BATCH_SIZE,\n",
    "    class_mode='sparse',\n",
    "    subset='validation'\n",
    ")\n"
   ]
  },
  {
   "cell_type": "code",
   "execution_count": 24,
   "id": "6666969b-d786-403a-8f42-0813d6a2e40a",
   "metadata": {},
   "outputs": [
    {
     "name": "stdout",
     "output_type": "stream",
     "text": [
      "Found 1275 images belonging to 5 classes.\n"
     ]
    }
   ],
   "source": [
    "# Test data generator (no augmentation)\n",
    "test_datagen = ImageDataGenerator(rescale=1./255)\n",
    "\n",
    "test_generator = test_datagen.flow_from_directory(\n",
    "    'Testing_set',\n",
    "    target_size=IMG_SIZE,\n",
    "    batch_size=BATCH_SIZE,\n",
    "    class_mode='sparse'\n",
    ")\n"
   ]
  },
  {
   "cell_type": "code",
   "execution_count": 25,
   "id": "69b4434b-dd59-41fe-97f5-c6b8049edc69",
   "metadata": {},
   "outputs": [],
   "source": [
    "from tensorflow.keras.models import Sequential"
   ]
  },
  {
   "cell_type": "code",
   "execution_count": 8,
   "id": "95a146dd-e114-41cf-b5f7-c4b943a0ef5b",
   "metadata": {},
   "outputs": [],
   "source": [
    "# # from tensorflow.keras.layers import BatchNormalization, Activation, MaxPooling2D\n",
    "\n",
    "# vgg_model = Sequential([\n",
    "#     layers.Rescaling(1./255, input_shape=(180, 180, 3)),\n",
    "#     layers.Conv2D(32, 3, padding='same'),\n",
    "#     layers.BatchNormalization(),\n",
    "#     layers.Activation('relu'),\n",
    "#     layers.Conv2D(32, 3, padding='same'),\n",
    "#     layers.BatchNormalization(),\n",
    "#     layers.Activation('relu'),\n",
    "#     layers.MaxPooling2D(),\n",
    "#     layers.Dropout(0.2),\n",
    "#     layers.Conv2D(64, 3, padding='same'),\n",
    "#     layers.BatchNormalization(),\n",
    "#     layers.Activation('relu'),\n",
    "#     layers.Conv2D(64, 3, padding='same'),\n",
    "#     layers.BatchNormalization(),\n",
    "#     layers.Activation('relu'),\n",
    "#     layers.MaxPooling2D(),\n",
    "#     layers.Dropout(0.2),\n",
    "#     layers.Conv2D(128, 3, padding='same'),\n",
    "#     layers.BatchNormalization(),\n",
    "#     layers.Activation('relu'),\n",
    "#     layers.Conv2D(128, 3, padding='same'),\n",
    "#     layers.BatchNormalization(),\n",
    "#     layers.Activation('relu'),\n",
    "#     layers.MaxPooling2D(),\n",
    "#     layers.Dropout(0.2),\n",
    "#     layers.Conv2D(512, 3, padding='same'),\n",
    "#     layers.BatchNormalization(),\n",
    "#     layers.Activation('relu'),\n",
    "#     layers.Conv2D(512, 3, padding='same'),\n",
    "#     layers.BatchNormalization(),\n",
    "#     layers.Activation('relu'),\n",
    "#     layers.MaxPooling2D(),\n",
    "#     layers.Dropout(0.2),\n",
    "#     layers.Flatten(),\n",
    "#     layers.Dense(units=1024, activation='relu'),\n",
    "#     layers.Dense(units=5, activation='sigmoid')\n",
    "# ])"
   ]
  },
  {
   "cell_type": "code",
   "execution_count": 26,
   "id": "55b39950-9b39-460d-96d4-7ad252a0d826",
   "metadata": {},
   "outputs": [],
   "source": [
    "\n",
    "model = tf.keras.models.Sequential([\n",
    "    layers.Conv2D(16, (3, 3), activation='relu', input_shape=(180, 180, 3)),\n",
    "    layers.MaxPooling2D(2, 2),\n",
    "    layers.Dropout(rate=0.15),  # Adding dropout regularization to deal with overfitting\n",
    "    # The second convolution\n",
    "    layers.Conv2D(32, (3, 3), activation='relu'),\n",
    "    layers.MaxPooling2D(2, 2),\n",
    "    layers.Dropout(rate=0.1),\n",
    "    # The third convolution\n",
    "    layers.Conv2D(64, (3, 3), activation='relu'),\n",
    "    layers.MaxPooling2D(2, 2),\n",
    "    layers.Dropout(rate=0.10),\n",
    "    # Flatten the results to feed into a DNN\n",
    "    layers.Flatten(),\n",
    "    # 512 neuron hidden layer\n",
    "    layers.Dense(128, activation='relu'),\n",
    "    # 3 output neurons for the 3 classes of Animal Images\n",
    "    layers.Dense(5, activation='softmax')\n",
    "])\n",
    "\n",
    "# # Compile the model\n",
    "# model.compile(optimizer='adam',\n",
    "#               loss='sparse_categorical_crossentropy',\n",
    "#               metrics=['accuracy'])\n",
    "\n",
    "# # Print the model summary\n",
    "# model.summary()\n"
   ]
  },
  {
   "cell_type": "code",
   "execution_count": 27,
   "id": "d84b5d69-1a10-408c-8e66-cb2d353b4642",
   "metadata": {},
   "outputs": [],
   "source": [
    "from tensorflow.keras.optimizers import Adam\n",
    "\n",
    "\n",
    "model.compile(optimizer=Adam(), \n",
    "              loss=tf.keras.losses.SparseCategoricalCrossentropy(from_logits=True),\n",
    "              metrics=['accuracy'])\n"
   ]
  },
  {
   "cell_type": "code",
   "execution_count": 28,
   "id": "e2ae6f28-94f1-4053-9988-703dd74f0a8d",
   "metadata": {},
   "outputs": [
    {
     "name": "stdout",
     "output_type": "stream",
     "text": [
      "Epoch 1/30\n",
      "129/129 [==============================] - 36s 277ms/step - loss: 1.4806 - accuracy: 0.5037 - val_loss: 1.3681 - val_accuracy: 0.5254\n",
      "Epoch 2/30\n",
      "129/129 [==============================] - 36s 280ms/step - loss: 1.2256 - accuracy: 0.5220 - val_loss: 1.4284 - val_accuracy: 0.5254\n",
      "Epoch 3/30\n",
      "129/129 [==============================] - 36s 279ms/step - loss: 1.1991 - accuracy: 0.5285 - val_loss: 1.3449 - val_accuracy: 0.5333\n",
      "Epoch 4/30\n",
      "129/129 [==============================] - 38s 290ms/step - loss: 1.1709 - accuracy: 0.5351 - val_loss: 1.3461 - val_accuracy: 0.5294\n",
      "Epoch 5/30\n",
      "129/129 [==============================] - 36s 276ms/step - loss: 1.1560 - accuracy: 0.5380 - val_loss: 1.1765 - val_accuracy: 0.5450\n",
      "Epoch 6/30\n",
      "129/129 [==============================] - 36s 275ms/step - loss: 1.1285 - accuracy: 0.5512 - val_loss: 1.2275 - val_accuracy: 0.5352\n",
      "Epoch 7/30\n",
      "129/129 [==============================] - 36s 277ms/step - loss: 1.1123 - accuracy: 0.5590 - val_loss: 1.3140 - val_accuracy: 0.5352\n",
      "Epoch 8/30\n",
      "129/129 [==============================] - 39s 302ms/step - loss: 1.0933 - accuracy: 0.5678 - val_loss: 1.2804 - val_accuracy: 0.5421\n",
      "Epoch 9/30\n",
      "129/129 [==============================] - 40s 306ms/step - loss: 1.0658 - accuracy: 0.5783 - val_loss: 1.1631 - val_accuracy: 0.5460\n",
      "Epoch 10/30\n",
      "129/129 [==============================] - 40s 305ms/step - loss: 1.0506 - accuracy: 0.5820 - val_loss: 1.1816 - val_accuracy: 0.5548\n",
      "Epoch 11/30\n",
      "129/129 [==============================] - 38s 291ms/step - loss: 1.0110 - accuracy: 0.5937 - val_loss: 1.1546 - val_accuracy: 0.5470\n",
      "Epoch 12/30\n",
      "129/129 [==============================] - 39s 299ms/step - loss: 0.9962 - accuracy: 0.6022 - val_loss: 1.0996 - val_accuracy: 0.5665\n",
      "Epoch 13/30\n",
      "129/129 [==============================] - 41s 314ms/step - loss: 0.9736 - accuracy: 0.6120 - val_loss: 1.1931 - val_accuracy: 0.5489\n",
      "Epoch 14/30\n",
      "129/129 [==============================] - 39s 303ms/step - loss: 0.9656 - accuracy: 0.6141 - val_loss: 1.1175 - val_accuracy: 0.5489\n",
      "Epoch 15/30\n",
      "129/129 [==============================] - 37s 289ms/step - loss: 0.9441 - accuracy: 0.6161 - val_loss: 1.1121 - val_accuracy: 0.5665\n",
      "Epoch 16/30\n",
      "129/129 [==============================] - 39s 302ms/step - loss: 0.9301 - accuracy: 0.6332 - val_loss: 1.0333 - val_accuracy: 0.5881\n",
      "Epoch 17/30\n",
      "129/129 [==============================] - 65s 501ms/step - loss: 0.9249 - accuracy: 0.6220 - val_loss: 1.1283 - val_accuracy: 0.5685\n",
      "Epoch 18/30\n",
      "129/129 [==============================] - 40s 312ms/step - loss: 0.8946 - accuracy: 0.6346 - val_loss: 1.0438 - val_accuracy: 0.6057\n",
      "Epoch 19/30\n",
      "129/129 [==============================] - 38s 294ms/step - loss: 0.8959 - accuracy: 0.6351 - val_loss: 1.0151 - val_accuracy: 0.6018\n",
      "Epoch 20/30\n",
      "129/129 [==============================] - 38s 291ms/step - loss: 0.8896 - accuracy: 0.6390 - val_loss: 1.0545 - val_accuracy: 0.5998\n",
      "Epoch 21/30\n",
      "129/129 [==============================] - 39s 303ms/step - loss: 0.8886 - accuracy: 0.6363 - val_loss: 1.0289 - val_accuracy: 0.5890\n",
      "Epoch 22/30\n",
      "129/129 [==============================] - 36s 280ms/step - loss: 0.8653 - accuracy: 0.6485 - val_loss: 1.0160 - val_accuracy: 0.5900\n",
      "Epoch 23/30\n",
      "129/129 [==============================] - 37s 286ms/step - loss: 0.8703 - accuracy: 0.6454 - val_loss: 1.0096 - val_accuracy: 0.6096\n",
      "Epoch 24/30\n",
      "129/129 [==============================] - 36s 281ms/step - loss: 0.8556 - accuracy: 0.6498 - val_loss: 1.0685 - val_accuracy: 0.5900\n",
      "Epoch 25/30\n",
      "129/129 [==============================] - 38s 297ms/step - loss: 0.8404 - accuracy: 0.6512 - val_loss: 1.0599 - val_accuracy: 0.5822\n",
      "Epoch 26/30\n",
      "129/129 [==============================] - 39s 301ms/step - loss: 0.8299 - accuracy: 0.6656 - val_loss: 1.0421 - val_accuracy: 0.5890\n",
      "Epoch 27/30\n",
      "129/129 [==============================] - 39s 304ms/step - loss: 0.8373 - accuracy: 0.6612 - val_loss: 1.0244 - val_accuracy: 0.6047\n",
      "Epoch 28/30\n",
      "129/129 [==============================] - 39s 301ms/step - loss: 0.8218 - accuracy: 0.6573 - val_loss: 1.0044 - val_accuracy: 0.6086\n",
      "Epoch 29/30\n",
      "129/129 [==============================] - 37s 284ms/step - loss: 0.8347 - accuracy: 0.6593 - val_loss: 1.0110 - val_accuracy: 0.6047\n",
      "Epoch 30/30\n",
      "129/129 [==============================] - 38s 293ms/step - loss: 0.8048 - accuracy: 0.6707 - val_loss: 1.0209 - val_accuracy: 0.6047\n"
     ]
    }
   ],
   "source": [
    "# epochs=25\n",
    "history =model.fit(train_generator,validation_data=validation_generator,epochs=30,batch_size=32)"
   ]
  },
  {
   "cell_type": "code",
   "execution_count": 29,
   "id": "ebf0e4cf-ab7c-432d-96ee-21d3e8eb8593",
   "metadata": {},
   "outputs": [
    {
     "name": "stdout",
     "output_type": "stream",
     "text": [
      "39/39 [==============================] - 15s 381ms/step - loss: 0.8678 - accuracy: 0.6546\n",
      "Test accuracy: 0.6546\n"
     ]
    }
   ],
   "source": [
    "# Evaluate the model on the test set\n",
    "test_loss, test_accuracy = model.evaluate(test_generator, steps=test_generator.samples // BATCH_SIZE)\n",
    "print(f\"Test accuracy: {test_accuracy:.4f}\")"
   ]
  },
  {
   "cell_type": "code",
   "execution_count": 30,
   "id": "5d749d69-8aa6-41ff-9574-0fe713851ebf",
   "metadata": {},
   "outputs": [],
   "source": [
    "model.save('cnn1_tf.h5')"
   ]
  },
  {
   "cell_type": "code",
   "execution_count": null,
   "id": "0c30689c-f546-4aaf-b006-3b61d2a7175a",
   "metadata": {},
   "outputs": [],
   "source": []
  },
  {
   "cell_type": "code",
   "execution_count": null,
   "id": "fbd67415-d3de-42b2-add9-2e2087892659",
   "metadata": {},
   "outputs": [],
   "source": []
  },
  {
   "cell_type": "code",
   "execution_count": null,
   "id": "f4947871-f83e-4dcd-9de5-c5f499e6bc0a",
   "metadata": {},
   "outputs": [],
   "source": []
  },
  {
   "cell_type": "code",
   "execution_count": 9,
   "id": "fc5ecd03-bfcb-4890-bad9-14c89377771d",
   "metadata": {},
   "outputs": [],
   "source": [
    "from tensorflow.keras.optimizers import Adam\n",
    "\n",
    "\n",
    "vgg_model.compile(optimizer=Adam(), \n",
    "              loss=tf.keras.losses.SparseCategoricalCrossentropy(from_logits=True),\n",
    "              metrics=['accuracy'])\n"
   ]
  },
  {
   "cell_type": "code",
   "execution_count": 11,
   "id": "1780e7e9-64d4-4852-a77f-5162257f106a",
   "metadata": {},
   "outputs": [
    {
     "name": "stdout",
     "output_type": "stream",
     "text": [
      "Epoch 1/30\n"
     ]
    },
    {
     "name": "stderr",
     "output_type": "stream",
     "text": [
      "C:\\Users\\kk993\\anaconda3\\envs\\my_env\\lib\\site-packages\\keras\\backend.py:5582: UserWarning: \"`sparse_categorical_crossentropy` received `from_logits=True`, but the `output` argument was produced by a Softmax activation and thus does not represent logits. Was this intended?\n",
      "  output, from_logits = _get_logits(\n"
     ]
    },
    {
     "ename": "ResourceExhaustedError",
     "evalue": "Graph execution error:\n\nDetected at node 'gradient_tape/sequential/dense/MatMul/MatMul_1' defined at (most recent call last):\n    File \"C:\\Users\\kk993\\anaconda3\\envs\\my_env\\lib\\runpy.py\", line 197, in _run_module_as_main\n      return _run_code(code, main_globals, None,\n    File \"C:\\Users\\kk993\\anaconda3\\envs\\my_env\\lib\\runpy.py\", line 87, in _run_code\n      exec(code, run_globals)\n    File \"C:\\Users\\kk993\\anaconda3\\envs\\my_env\\lib\\site-packages\\ipykernel_launcher.py\", line 18, in <module>\n      app.launch_new_instance()\n    File \"C:\\Users\\kk993\\anaconda3\\envs\\my_env\\lib\\site-packages\\traitlets\\config\\application.py\", line 1075, in launch_instance\n      app.start()\n    File \"C:\\Users\\kk993\\anaconda3\\envs\\my_env\\lib\\site-packages\\ipykernel\\kernelapp.py\", line 739, in start\n      self.io_loop.start()\n    File \"C:\\Users\\kk993\\anaconda3\\envs\\my_env\\lib\\site-packages\\tornado\\platform\\asyncio.py\", line 205, in start\n      self.asyncio_loop.run_forever()\n    File \"C:\\Users\\kk993\\anaconda3\\envs\\my_env\\lib\\asyncio\\base_events.py\", line 601, in run_forever\n      self._run_once()\n    File \"C:\\Users\\kk993\\anaconda3\\envs\\my_env\\lib\\asyncio\\base_events.py\", line 1905, in _run_once\n      handle._run()\n    File \"C:\\Users\\kk993\\anaconda3\\envs\\my_env\\lib\\asyncio\\events.py\", line 80, in _run\n      self._context.run(self._callback, *self._args)\n    File \"C:\\Users\\kk993\\anaconda3\\envs\\my_env\\lib\\site-packages\\ipykernel\\kernelbase.py\", line 545, in dispatch_queue\n      await self.process_one()\n    File \"C:\\Users\\kk993\\anaconda3\\envs\\my_env\\lib\\site-packages\\ipykernel\\kernelbase.py\", line 534, in process_one\n      await dispatch(*args)\n    File \"C:\\Users\\kk993\\anaconda3\\envs\\my_env\\lib\\site-packages\\ipykernel\\kernelbase.py\", line 437, in dispatch_shell\n      await result\n    File \"C:\\Users\\kk993\\anaconda3\\envs\\my_env\\lib\\site-packages\\ipykernel\\ipkernel.py\", line 359, in execute_request\n      await super().execute_request(stream, ident, parent)\n    File \"C:\\Users\\kk993\\anaconda3\\envs\\my_env\\lib\\site-packages\\ipykernel\\kernelbase.py\", line 778, in execute_request\n      reply_content = await reply_content\n    File \"C:\\Users\\kk993\\anaconda3\\envs\\my_env\\lib\\site-packages\\ipykernel\\ipkernel.py\", line 446, in do_execute\n      res = shell.run_cell(\n    File \"C:\\Users\\kk993\\anaconda3\\envs\\my_env\\lib\\site-packages\\ipykernel\\zmqshell.py\", line 549, in run_cell\n      return super().run_cell(*args, **kwargs)\n    File \"C:\\Users\\kk993\\anaconda3\\envs\\my_env\\lib\\site-packages\\IPython\\core\\interactiveshell.py\", line 3048, in run_cell\n      result = self._run_cell(\n    File \"C:\\Users\\kk993\\anaconda3\\envs\\my_env\\lib\\site-packages\\IPython\\core\\interactiveshell.py\", line 3103, in _run_cell\n      result = runner(coro)\n    File \"C:\\Users\\kk993\\anaconda3\\envs\\my_env\\lib\\site-packages\\IPython\\core\\async_helpers.py\", line 129, in _pseudo_sync_runner\n      coro.send(None)\n    File \"C:\\Users\\kk993\\anaconda3\\envs\\my_env\\lib\\site-packages\\IPython\\core\\interactiveshell.py\", line 3308, in run_cell_async\n      has_raised = await self.run_ast_nodes(code_ast.body, cell_name,\n    File \"C:\\Users\\kk993\\anaconda3\\envs\\my_env\\lib\\site-packages\\IPython\\core\\interactiveshell.py\", line 3490, in run_ast_nodes\n      if await self.run_code(code, result, async_=asy):\n    File \"C:\\Users\\kk993\\anaconda3\\envs\\my_env\\lib\\site-packages\\IPython\\core\\interactiveshell.py\", line 3550, in run_code\n      exec(code_obj, self.user_global_ns, self.user_ns)\n    File \"C:\\Users\\kk993\\AppData\\Local\\Temp\\ipykernel_15672\\3660588823.py\", line 2, in <module>\n      history =vgg_model.fit(train_generator,validation_data=validation_generator,epochs=30,batch_size=32)\n    File \"C:\\Users\\kk993\\anaconda3\\envs\\my_env\\lib\\site-packages\\keras\\utils\\traceback_utils.py\", line 65, in error_handler\n      return fn(*args, **kwargs)\n    File \"C:\\Users\\kk993\\anaconda3\\envs\\my_env\\lib\\site-packages\\keras\\engine\\training.py\", line 1564, in fit\n      tmp_logs = self.train_function(iterator)\n    File \"C:\\Users\\kk993\\anaconda3\\envs\\my_env\\lib\\site-packages\\keras\\engine\\training.py\", line 1160, in train_function\n      return step_function(self, iterator)\n    File \"C:\\Users\\kk993\\anaconda3\\envs\\my_env\\lib\\site-packages\\keras\\engine\\training.py\", line 1146, in step_function\n      outputs = model.distribute_strategy.run(run_step, args=(data,))\n    File \"C:\\Users\\kk993\\anaconda3\\envs\\my_env\\lib\\site-packages\\keras\\engine\\training.py\", line 1135, in run_step\n      outputs = model.train_step(data)\n    File \"C:\\Users\\kk993\\anaconda3\\envs\\my_env\\lib\\site-packages\\keras\\engine\\training.py\", line 997, in train_step\n      self.optimizer.minimize(loss, self.trainable_variables, tape=tape)\n    File \"C:\\Users\\kk993\\anaconda3\\envs\\my_env\\lib\\site-packages\\keras\\optimizers\\optimizer_v2\\optimizer_v2.py\", line 576, in minimize\n      grads_and_vars = self._compute_gradients(\n    File \"C:\\Users\\kk993\\anaconda3\\envs\\my_env\\lib\\site-packages\\keras\\optimizers\\optimizer_v2\\optimizer_v2.py\", line 634, in _compute_gradients\n      grads_and_vars = self._get_gradients(\n    File \"C:\\Users\\kk993\\anaconda3\\envs\\my_env\\lib\\site-packages\\keras\\optimizers\\optimizer_v2\\optimizer_v2.py\", line 510, in _get_gradients\n      grads = tape.gradient(loss, var_list, grad_loss)\nNode: 'gradient_tape/sequential/dense/MatMul/MatMul_1'\nOOM when allocating tensor with shape[61952,1024] and type float on /job:localhost/replica:0/task:0/device:GPU:0 by allocator GPU_0_bfc\n\t [[{{node gradient_tape/sequential/dense/MatMul/MatMul_1}}]]\nHint: If you want to see a list of allocated tensors when OOM happens, add report_tensor_allocations_upon_oom to RunOptions for current allocation info. This isn't available when running in Eager mode.\n [Op:__inference_train_function_2569]",
     "output_type": "error",
     "traceback": [
      "\u001b[1;31m---------------------------------------------------------------------------\u001b[0m",
      "\u001b[1;31mResourceExhaustedError\u001b[0m                    Traceback (most recent call last)",
      "Cell \u001b[1;32mIn[11], line 2\u001b[0m\n\u001b[0;32m      1\u001b[0m \u001b[38;5;66;03m# epochs=25\u001b[39;00m\n\u001b[1;32m----> 2\u001b[0m history \u001b[38;5;241m=\u001b[39m\u001b[43mvgg_model\u001b[49m\u001b[38;5;241;43m.\u001b[39;49m\u001b[43mfit\u001b[49m\u001b[43m(\u001b[49m\u001b[43mtrain_generator\u001b[49m\u001b[43m,\u001b[49m\u001b[43mvalidation_data\u001b[49m\u001b[38;5;241;43m=\u001b[39;49m\u001b[43mvalidation_generator\u001b[49m\u001b[43m,\u001b[49m\u001b[43mepochs\u001b[49m\u001b[38;5;241;43m=\u001b[39;49m\u001b[38;5;241;43m30\u001b[39;49m\u001b[43m,\u001b[49m\u001b[43mbatch_size\u001b[49m\u001b[38;5;241;43m=\u001b[39;49m\u001b[38;5;241;43m32\u001b[39;49m\u001b[43m)\u001b[49m\n",
      "File \u001b[1;32m~\\anaconda3\\envs\\my_env\\lib\\site-packages\\keras\\utils\\traceback_utils.py:70\u001b[0m, in \u001b[0;36mfilter_traceback.<locals>.error_handler\u001b[1;34m(*args, **kwargs)\u001b[0m\n\u001b[0;32m     67\u001b[0m     filtered_tb \u001b[38;5;241m=\u001b[39m _process_traceback_frames(e\u001b[38;5;241m.\u001b[39m__traceback__)\n\u001b[0;32m     68\u001b[0m     \u001b[38;5;66;03m# To get the full stack trace, call:\u001b[39;00m\n\u001b[0;32m     69\u001b[0m     \u001b[38;5;66;03m# `tf.debugging.disable_traceback_filtering()`\u001b[39;00m\n\u001b[1;32m---> 70\u001b[0m     \u001b[38;5;28;01mraise\u001b[39;00m e\u001b[38;5;241m.\u001b[39mwith_traceback(filtered_tb) \u001b[38;5;28;01mfrom\u001b[39;00m \u001b[38;5;28;01mNone\u001b[39;00m\n\u001b[0;32m     71\u001b[0m \u001b[38;5;28;01mfinally\u001b[39;00m:\n\u001b[0;32m     72\u001b[0m     \u001b[38;5;28;01mdel\u001b[39;00m filtered_tb\n",
      "File \u001b[1;32m~\\anaconda3\\envs\\my_env\\lib\\site-packages\\tensorflow\\python\\eager\\execute.py:54\u001b[0m, in \u001b[0;36mquick_execute\u001b[1;34m(op_name, num_outputs, inputs, attrs, ctx, name)\u001b[0m\n\u001b[0;32m     52\u001b[0m \u001b[38;5;28;01mtry\u001b[39;00m:\n\u001b[0;32m     53\u001b[0m   ctx\u001b[38;5;241m.\u001b[39mensure_initialized()\n\u001b[1;32m---> 54\u001b[0m   tensors \u001b[38;5;241m=\u001b[39m pywrap_tfe\u001b[38;5;241m.\u001b[39mTFE_Py_Execute(ctx\u001b[38;5;241m.\u001b[39m_handle, device_name, op_name,\n\u001b[0;32m     55\u001b[0m                                       inputs, attrs, num_outputs)\n\u001b[0;32m     56\u001b[0m \u001b[38;5;28;01mexcept\u001b[39;00m core\u001b[38;5;241m.\u001b[39m_NotOkStatusException \u001b[38;5;28;01mas\u001b[39;00m e:\n\u001b[0;32m     57\u001b[0m   \u001b[38;5;28;01mif\u001b[39;00m name \u001b[38;5;129;01mis\u001b[39;00m \u001b[38;5;129;01mnot\u001b[39;00m \u001b[38;5;28;01mNone\u001b[39;00m:\n",
      "\u001b[1;31mResourceExhaustedError\u001b[0m: Graph execution error:\n\nDetected at node 'gradient_tape/sequential/dense/MatMul/MatMul_1' defined at (most recent call last):\n    File \"C:\\Users\\kk993\\anaconda3\\envs\\my_env\\lib\\runpy.py\", line 197, in _run_module_as_main\n      return _run_code(code, main_globals, None,\n    File \"C:\\Users\\kk993\\anaconda3\\envs\\my_env\\lib\\runpy.py\", line 87, in _run_code\n      exec(code, run_globals)\n    File \"C:\\Users\\kk993\\anaconda3\\envs\\my_env\\lib\\site-packages\\ipykernel_launcher.py\", line 18, in <module>\n      app.launch_new_instance()\n    File \"C:\\Users\\kk993\\anaconda3\\envs\\my_env\\lib\\site-packages\\traitlets\\config\\application.py\", line 1075, in launch_instance\n      app.start()\n    File \"C:\\Users\\kk993\\anaconda3\\envs\\my_env\\lib\\site-packages\\ipykernel\\kernelapp.py\", line 739, in start\n      self.io_loop.start()\n    File \"C:\\Users\\kk993\\anaconda3\\envs\\my_env\\lib\\site-packages\\tornado\\platform\\asyncio.py\", line 205, in start\n      self.asyncio_loop.run_forever()\n    File \"C:\\Users\\kk993\\anaconda3\\envs\\my_env\\lib\\asyncio\\base_events.py\", line 601, in run_forever\n      self._run_once()\n    File \"C:\\Users\\kk993\\anaconda3\\envs\\my_env\\lib\\asyncio\\base_events.py\", line 1905, in _run_once\n      handle._run()\n    File \"C:\\Users\\kk993\\anaconda3\\envs\\my_env\\lib\\asyncio\\events.py\", line 80, in _run\n      self._context.run(self._callback, *self._args)\n    File \"C:\\Users\\kk993\\anaconda3\\envs\\my_env\\lib\\site-packages\\ipykernel\\kernelbase.py\", line 545, in dispatch_queue\n      await self.process_one()\n    File \"C:\\Users\\kk993\\anaconda3\\envs\\my_env\\lib\\site-packages\\ipykernel\\kernelbase.py\", line 534, in process_one\n      await dispatch(*args)\n    File \"C:\\Users\\kk993\\anaconda3\\envs\\my_env\\lib\\site-packages\\ipykernel\\kernelbase.py\", line 437, in dispatch_shell\n      await result\n    File \"C:\\Users\\kk993\\anaconda3\\envs\\my_env\\lib\\site-packages\\ipykernel\\ipkernel.py\", line 359, in execute_request\n      await super().execute_request(stream, ident, parent)\n    File \"C:\\Users\\kk993\\anaconda3\\envs\\my_env\\lib\\site-packages\\ipykernel\\kernelbase.py\", line 778, in execute_request\n      reply_content = await reply_content\n    File \"C:\\Users\\kk993\\anaconda3\\envs\\my_env\\lib\\site-packages\\ipykernel\\ipkernel.py\", line 446, in do_execute\n      res = shell.run_cell(\n    File \"C:\\Users\\kk993\\anaconda3\\envs\\my_env\\lib\\site-packages\\ipykernel\\zmqshell.py\", line 549, in run_cell\n      return super().run_cell(*args, **kwargs)\n    File \"C:\\Users\\kk993\\anaconda3\\envs\\my_env\\lib\\site-packages\\IPython\\core\\interactiveshell.py\", line 3048, in run_cell\n      result = self._run_cell(\n    File \"C:\\Users\\kk993\\anaconda3\\envs\\my_env\\lib\\site-packages\\IPython\\core\\interactiveshell.py\", line 3103, in _run_cell\n      result = runner(coro)\n    File \"C:\\Users\\kk993\\anaconda3\\envs\\my_env\\lib\\site-packages\\IPython\\core\\async_helpers.py\", line 129, in _pseudo_sync_runner\n      coro.send(None)\n    File \"C:\\Users\\kk993\\anaconda3\\envs\\my_env\\lib\\site-packages\\IPython\\core\\interactiveshell.py\", line 3308, in run_cell_async\n      has_raised = await self.run_ast_nodes(code_ast.body, cell_name,\n    File \"C:\\Users\\kk993\\anaconda3\\envs\\my_env\\lib\\site-packages\\IPython\\core\\interactiveshell.py\", line 3490, in run_ast_nodes\n      if await self.run_code(code, result, async_=asy):\n    File \"C:\\Users\\kk993\\anaconda3\\envs\\my_env\\lib\\site-packages\\IPython\\core\\interactiveshell.py\", line 3550, in run_code\n      exec(code_obj, self.user_global_ns, self.user_ns)\n    File \"C:\\Users\\kk993\\AppData\\Local\\Temp\\ipykernel_15672\\3660588823.py\", line 2, in <module>\n      history =vgg_model.fit(train_generator,validation_data=validation_generator,epochs=30,batch_size=32)\n    File \"C:\\Users\\kk993\\anaconda3\\envs\\my_env\\lib\\site-packages\\keras\\utils\\traceback_utils.py\", line 65, in error_handler\n      return fn(*args, **kwargs)\n    File \"C:\\Users\\kk993\\anaconda3\\envs\\my_env\\lib\\site-packages\\keras\\engine\\training.py\", line 1564, in fit\n      tmp_logs = self.train_function(iterator)\n    File \"C:\\Users\\kk993\\anaconda3\\envs\\my_env\\lib\\site-packages\\keras\\engine\\training.py\", line 1160, in train_function\n      return step_function(self, iterator)\n    File \"C:\\Users\\kk993\\anaconda3\\envs\\my_env\\lib\\site-packages\\keras\\engine\\training.py\", line 1146, in step_function\n      outputs = model.distribute_strategy.run(run_step, args=(data,))\n    File \"C:\\Users\\kk993\\anaconda3\\envs\\my_env\\lib\\site-packages\\keras\\engine\\training.py\", line 1135, in run_step\n      outputs = model.train_step(data)\n    File \"C:\\Users\\kk993\\anaconda3\\envs\\my_env\\lib\\site-packages\\keras\\engine\\training.py\", line 997, in train_step\n      self.optimizer.minimize(loss, self.trainable_variables, tape=tape)\n    File \"C:\\Users\\kk993\\anaconda3\\envs\\my_env\\lib\\site-packages\\keras\\optimizers\\optimizer_v2\\optimizer_v2.py\", line 576, in minimize\n      grads_and_vars = self._compute_gradients(\n    File \"C:\\Users\\kk993\\anaconda3\\envs\\my_env\\lib\\site-packages\\keras\\optimizers\\optimizer_v2\\optimizer_v2.py\", line 634, in _compute_gradients\n      grads_and_vars = self._get_gradients(\n    File \"C:\\Users\\kk993\\anaconda3\\envs\\my_env\\lib\\site-packages\\keras\\optimizers\\optimizer_v2\\optimizer_v2.py\", line 510, in _get_gradients\n      grads = tape.gradient(loss, var_list, grad_loss)\nNode: 'gradient_tape/sequential/dense/MatMul/MatMul_1'\nOOM when allocating tensor with shape[61952,1024] and type float on /job:localhost/replica:0/task:0/device:GPU:0 by allocator GPU_0_bfc\n\t [[{{node gradient_tape/sequential/dense/MatMul/MatMul_1}}]]\nHint: If you want to see a list of allocated tensors when OOM happens, add report_tensor_allocations_upon_oom to RunOptions for current allocation info. This isn't available when running in Eager mode.\n [Op:__inference_train_function_2569]"
     ]
    }
   ],
   "source": [
    "# epochs=25\n",
    "history =vgg_model.fit(train_generator,validation_data=validation_generator,epochs=30,batch_size=32)"
   ]
  },
  {
   "cell_type": "code",
   "execution_count": null,
   "id": "9f68c88d-1965-43eb-84c8-66c3285c0e8e",
   "metadata": {},
   "outputs": [],
   "source": [
    "# Evaluate the model on the test set\n",
    "test_loss, test_accuracy = model.evaluate(test_generator, steps=test_generator.samples // BATCH_SIZE)\n",
    "print(f\"Test accuracy: {test_accuracy:.4f}\")"
   ]
  }
 ],
 "metadata": {
  "kernelspec": {
   "display_name": "Python 3 (ipykernel)",
   "language": "python",
   "name": "python3"
  },
  "language_info": {
   "codemirror_mode": {
    "name": "ipython",
    "version": 3
   },
   "file_extension": ".py",
   "mimetype": "text/x-python",
   "name": "python",
   "nbconvert_exporter": "python",
   "pygments_lexer": "ipython3",
   "version": "3.11.7"
  }
 },
 "nbformat": 4,
 "nbformat_minor": 5
}
