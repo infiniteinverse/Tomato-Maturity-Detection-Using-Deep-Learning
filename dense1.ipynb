{
 "cells": [
  {
   "cell_type": "code",
   "execution_count": 13,
   "id": "d7028ec9-8fe1-4742-9e8e-4166ccafd157",
   "metadata": {},
   "outputs": [],
   "source": [
    "import tensorflow as tf\n",
    "from tensorflow.keras.applications import DenseNet121\n",
    "from tensorflow.keras.models import Model\n",
    "from tensorflow.keras.layers import Dense, GlobalAveragePooling2D\n",
    "from tensorflow.keras import layers, models\n",
    "from tensorflow.keras.preprocessing.image import ImageDataGenerator"
   ]
  },
  {
   "cell_type": "code",
   "execution_count": 5,
   "id": "4c37b483-c069-4328-a826-55fa1e96021a",
   "metadata": {},
   "outputs": [],
   "source": [
    "# Set random seed for reproducibility\n",
    "tf.random.set_seed(42)\n",
    "\n",
    "# Define parameters\n",
    "IMG_SIZE = (180, 180)\n",
    "BATCH_SIZE = 32\n",
    "EPOCHS = 15\n",
    "NUM_CLASSES = 5\n"
   ]
  },
  {
   "cell_type": "code",
   "execution_count": 6,
   "id": "8f46c196-ae15-42b4-ac73-15bbc0a89387",
   "metadata": {},
   "outputs": [
    {
     "name": "stdout",
     "output_type": "stream",
     "text": [
      "Found 4100 images belonging to 5 classes.\n",
      "Found 1022 images belonging to 5 classes.\n"
     ]
    }
   ],
   "source": [
    "# Set up data generators\n",
    "train_datagen = ImageDataGenerator(\n",
    "    rescale=1./255,\n",
    "    rotation_range=20,\n",
    "    width_shift_range=0.2,\n",
    "    height_shift_range=0.2,\n",
    "    horizontal_flip=True,\n",
    "    validation_split=0.2\n",
    ")\n",
    "\n",
    "train_generator = train_datagen.flow_from_directory(\n",
    "    'Training_set',\n",
    "    target_size=IMG_SIZE,\n",
    "    batch_size=BATCH_SIZE,\n",
    "    class_mode='categorical',\n",
    "    subset='training'\n",
    ")\n",
    "\n",
    "validation_generator = train_datagen.flow_from_directory(\n",
    "    'Training_set',\n",
    "    target_size=IMG_SIZE,\n",
    "    batch_size=BATCH_SIZE,\n",
    "    class_mode='categorical',\n",
    "    subset='validation'\n",
    ")\n"
   ]
  },
  {
   "cell_type": "code",
   "execution_count": 7,
   "id": "846d2110-c178-4237-9c56-8c4421edb6f5",
   "metadata": {},
   "outputs": [
    {
     "name": "stdout",
     "output_type": "stream",
     "text": [
      "Found 1275 images belonging to 5 classes.\n"
     ]
    }
   ],
   "source": [
    "# Test data generator (no augmentation)\n",
    "test_datagen = ImageDataGenerator(rescale=1./255)\n",
    "\n",
    "test_generator = test_datagen.flow_from_directory(\n",
    "    'Testing_set',\n",
    "    target_size=IMG_SIZE,\n",
    "    batch_size=BATCH_SIZE,\n",
    "    class_mode='categorical'\n",
    ")\n"
   ]
  },
  {
   "cell_type": "code",
   "execution_count": 22,
   "id": "d9829c02-c2fb-4bd5-a2e9-75953f04dc9d",
   "metadata": {
    "scrolled": true
   },
   "outputs": [
    {
     "name": "stdout",
     "output_type": "stream",
     "text": [
      "Epoch 1/15\n",
      "128/128 [==============================] - 91s 625ms/step - loss: 1.1524 - accuracy: 0.5809 - val_loss: 1.1178 - val_accuracy: 0.5806\n",
      "Epoch 2/15\n",
      "128/128 [==============================] - 39s 305ms/step - loss: 0.9691 - accuracy: 0.6170 - val_loss: 1.1567 - val_accuracy: 0.5444\n",
      "Epoch 3/15\n",
      "128/128 [==============================] - 41s 321ms/step - loss: 0.9238 - accuracy: 0.6325 - val_loss: 1.1954 - val_accuracy: 0.5796\n",
      "Epoch 4/15\n",
      "128/128 [==============================] - 42s 326ms/step - loss: 0.9188 - accuracy: 0.6377 - val_loss: 1.0574 - val_accuracy: 0.5857\n",
      "Epoch 5/15\n",
      "128/128 [==============================] - 41s 319ms/step - loss: 0.8694 - accuracy: 0.6448 - val_loss: 1.0485 - val_accuracy: 0.5917\n",
      "Epoch 6/15\n",
      "128/128 [==============================] - 40s 315ms/step - loss: 0.8473 - accuracy: 0.6625 - val_loss: 1.0346 - val_accuracy: 0.5645\n",
      "Epoch 7/15\n",
      "128/128 [==============================] - 41s 321ms/step - loss: 0.8294 - accuracy: 0.6713 - val_loss: 1.1034 - val_accuracy: 0.6129\n",
      "Epoch 8/15\n",
      "128/128 [==============================] - 42s 325ms/step - loss: 0.8230 - accuracy: 0.6708 - val_loss: 0.9998 - val_accuracy: 0.6240\n",
      "Epoch 9/15\n",
      "128/128 [==============================] - 41s 323ms/step - loss: 0.8114 - accuracy: 0.6767 - val_loss: 1.0208 - val_accuracy: 0.5887\n",
      "Epoch 10/15\n",
      "128/128 [==============================] - 46s 356ms/step - loss: 0.8068 - accuracy: 0.6716 - val_loss: 0.9785 - val_accuracy: 0.6210\n",
      "Epoch 11/15\n",
      "128/128 [==============================] - 42s 329ms/step - loss: 0.7806 - accuracy: 0.6895 - val_loss: 0.9932 - val_accuracy: 0.6230\n",
      "Epoch 12/15\n",
      "128/128 [==============================] - 43s 332ms/step - loss: 0.7521 - accuracy: 0.6937 - val_loss: 0.9629 - val_accuracy: 0.6169\n",
      "Epoch 13/15\n",
      "128/128 [==============================] - 45s 352ms/step - loss: 0.7716 - accuracy: 0.6912 - val_loss: 0.9429 - val_accuracy: 0.6250\n",
      "Epoch 14/15\n",
      "128/128 [==============================] - 46s 356ms/step - loss: 0.7306 - accuracy: 0.7021 - val_loss: 0.9352 - val_accuracy: 0.6321\n",
      "Epoch 15/15\n",
      "128/128 [==============================] - 42s 328ms/step - loss: 0.7308 - accuracy: 0.7060 - val_loss: 1.0547 - val_accuracy: 0.5796\n"
     ]
    }
   ],
   "source": [
    "\n",
    "# Load pre-trained DenseNet model\n",
    "base_model = DenseNet121(weights='imagenet', include_top=False, input_shape=(180, 180, 3))\n",
    "\n",
    "# Freeze the base model layers\n",
    "base_model.trainable = False\n",
    "\n",
    "# Add custom layers\n",
    "x = base_model.output\n",
    "x = GlobalAveragePooling2D()(x)\n",
    "x = Dense(256, activation='relu')(x)\n",
    "output = Dense(NUM_CLASSES, activation='softmax')(x)\n",
    "\n",
    "# Create the final model\n",
    "model = Model(inputs=base_model.input, outputs=output)\n",
    "\n",
    "# Compile the model\n",
    "model.compile(optimizer='adam', loss='categorical_crossentropy', metrics=['accuracy'])\n",
    "\n",
    "# Train the model\n",
    "history = model.fit(\n",
    "    train_generator,\n",
    "    steps_per_epoch=train_generator.samples // BATCH_SIZE,\n",
    "    validation_data=validation_generator,\n",
    "    validation_steps=validation_generator.samples // BATCH_SIZE,\n",
    "    epochs=EPOCHS\n",
    ")\n"
   ]
  },
  {
   "cell_type": "code",
   "execution_count": 23,
   "id": "9a6cdd2c-be0c-4db9-aaff-ec870a063186",
   "metadata": {
    "scrolled": true
   },
   "outputs": [
    {
     "name": "stdout",
     "output_type": "stream",
     "text": [
      "Epoch 1/30\n",
      "128/128 [==============================] - 66s 420ms/step - loss: 2.4555 - accuracy: 0.4484 - val_loss: 1.4503 - val_accuracy: 0.5232\n",
      "Epoch 2/30\n",
      "128/128 [==============================] - 46s 358ms/step - loss: 1.2350 - accuracy: 0.6064 - val_loss: 1.3797 - val_accuracy: 0.5403\n",
      "Epoch 3/30\n",
      "128/128 [==============================] - 45s 351ms/step - loss: 1.0038 - accuracy: 0.6460 - val_loss: 1.3049 - val_accuracy: 0.5625\n",
      "Epoch 4/30\n",
      "128/128 [==============================] - 46s 358ms/step - loss: 0.8910 - accuracy: 0.6588 - val_loss: 1.1736 - val_accuracy: 0.5796\n",
      "Epoch 5/30\n",
      "128/128 [==============================] - 46s 356ms/step - loss: 0.8370 - accuracy: 0.6745 - val_loss: 1.1449 - val_accuracy: 0.5806\n",
      "Epoch 6/30\n",
      "128/128 [==============================] - 46s 355ms/step - loss: 0.7862 - accuracy: 0.6831 - val_loss: 1.0744 - val_accuracy: 0.6048\n",
      "Epoch 7/30\n",
      "128/128 [==============================] - 46s 360ms/step - loss: 0.7524 - accuracy: 0.7016 - val_loss: 0.9936 - val_accuracy: 0.6321\n",
      "Epoch 8/30\n",
      "128/128 [==============================] - 47s 368ms/step - loss: 0.7338 - accuracy: 0.7008 - val_loss: 1.0475 - val_accuracy: 0.5968\n",
      "Epoch 9/30\n",
      "128/128 [==============================] - 46s 356ms/step - loss: 0.6790 - accuracy: 0.7227 - val_loss: 0.9710 - val_accuracy: 0.6190\n",
      "Epoch 10/30\n",
      "128/128 [==============================] - 46s 359ms/step - loss: 0.6639 - accuracy: 0.7276 - val_loss: 1.0099 - val_accuracy: 0.6240\n",
      "Epoch 11/30\n",
      "128/128 [==============================] - 46s 360ms/step - loss: 0.6446 - accuracy: 0.7281 - val_loss: 0.9888 - val_accuracy: 0.6109\n",
      "Epoch 12/30\n",
      "128/128 [==============================] - 46s 360ms/step - loss: 0.6203 - accuracy: 0.7466 - val_loss: 1.0170 - val_accuracy: 0.6179\n",
      "Epoch 13/30\n",
      "128/128 [==============================] - 47s 364ms/step - loss: 0.6001 - accuracy: 0.7532 - val_loss: 0.9629 - val_accuracy: 0.6240\n",
      "Epoch 14/30\n",
      "128/128 [==============================] - 48s 375ms/step - loss: 0.5886 - accuracy: 0.7643 - val_loss: 1.0194 - val_accuracy: 0.6129\n",
      "Epoch 15/30\n",
      "128/128 [==============================] - 46s 359ms/step - loss: 0.5838 - accuracy: 0.7576 - val_loss: 0.9723 - val_accuracy: 0.6310\n",
      "Epoch 16/30\n",
      "128/128 [==============================] - 49s 382ms/step - loss: 0.5626 - accuracy: 0.7694 - val_loss: 0.9473 - val_accuracy: 0.6482\n",
      "Epoch 17/30\n",
      "128/128 [==============================] - 46s 358ms/step - loss: 0.5282 - accuracy: 0.7822 - val_loss: 0.9680 - val_accuracy: 0.6169\n",
      "Epoch 18/30\n",
      "128/128 [==============================] - 47s 370ms/step - loss: 0.5362 - accuracy: 0.7785 - val_loss: 1.0266 - val_accuracy: 0.6210\n",
      "Epoch 19/30\n",
      "128/128 [==============================] - 50s 387ms/step - loss: 0.5101 - accuracy: 0.7987 - val_loss: 0.9429 - val_accuracy: 0.6462\n",
      "Epoch 20/30\n",
      "128/128 [==============================] - 48s 376ms/step - loss: 0.5016 - accuracy: 0.7913 - val_loss: 0.9499 - val_accuracy: 0.6401\n",
      "Epoch 21/30\n",
      "128/128 [==============================] - 46s 356ms/step - loss: 0.4739 - accuracy: 0.8041 - val_loss: 0.9716 - val_accuracy: 0.6431\n",
      "Epoch 22/30\n",
      "128/128 [==============================] - 47s 363ms/step - loss: 0.4669 - accuracy: 0.8070 - val_loss: 1.0561 - val_accuracy: 0.6260\n",
      "Epoch 23/30\n",
      "128/128 [==============================] - 46s 358ms/step - loss: 0.4637 - accuracy: 0.8115 - val_loss: 0.9789 - val_accuracy: 0.6240\n",
      "Epoch 24/30\n",
      "128/128 [==============================] - 46s 362ms/step - loss: 0.4451 - accuracy: 0.8201 - val_loss: 1.0051 - val_accuracy: 0.6230\n",
      "Epoch 25/30\n",
      "128/128 [==============================] - 46s 358ms/step - loss: 0.4179 - accuracy: 0.8316 - val_loss: 0.9803 - val_accuracy: 0.6290\n",
      "Epoch 26/30\n",
      "128/128 [==============================] - 47s 363ms/step - loss: 0.4201 - accuracy: 0.8343 - val_loss: 1.0090 - val_accuracy: 0.6401\n",
      "Epoch 27/30\n",
      "128/128 [==============================] - 46s 361ms/step - loss: 0.4093 - accuracy: 0.8331 - val_loss: 1.0866 - val_accuracy: 0.6200\n",
      "Epoch 28/30\n",
      "128/128 [==============================] - 46s 359ms/step - loss: 0.4047 - accuracy: 0.8363 - val_loss: 0.9870 - val_accuracy: 0.6371\n",
      "Epoch 29/30\n",
      "128/128 [==============================] - 46s 361ms/step - loss: 0.3941 - accuracy: 0.8454 - val_loss: 1.0150 - val_accuracy: 0.6210\n",
      "Epoch 30/30\n",
      "128/128 [==============================] - 47s 364ms/step - loss: 0.3850 - accuracy: 0.8437 - val_loss: 1.0260 - val_accuracy: 0.6260\n"
     ]
    }
   ],
   "source": [
    "base_model.trainable = True\n",
    "\n",
    "# Freeze the first few layers (optional, but can help prevent overfitting)\n",
    "for layer in base_model.layers[:100]:\n",
    "    layer.trainable = False\n",
    "\n",
    "# Recompile the model\n",
    "model.compile(optimizer=tf.keras.optimizers.Adam(learning_rate=1e-5),\n",
    "              loss='categorical_crossentropy',\n",
    "              metrics=['accuracy'])\n",
    "\n",
    "# Fine-tune the model\n",
    "history_fine = model.fit(\n",
    "    train_generator,\n",
    "    steps_per_epoch=train_generator.samples // BATCH_SIZE,\n",
    "    validation_data=validation_generator,\n",
    "    validation_steps=validation_generator.samples // BATCH_SIZE,\n",
    "    epochs=30\n",
    ")"
   ]
  },
  {
   "cell_type": "code",
   "execution_count": 15,
   "id": "0c2848ed-ed7e-4671-b629-5271f1adc18d",
   "metadata": {},
   "outputs": [],
   "source": [
    "model_base = tf.keras.models.load_model('tomato_classifier_tf.h5')"
   ]
  },
  {
   "cell_type": "code",
   "execution_count": null,
   "id": "5329b0fe-a5f9-40f9-b74c-7e8624b490f8",
   "metadata": {},
   "outputs": [],
   "source": [
    "# adding more layers:\n",
    "model = tf.keras.models.Sequential([\n",
    "    layers.Input(shape=(180, 180, 3)),\n",
    "    model_base,\n",
    "    layers.GlobalAveragePooling2D(),\n",
    "    layers.Dropout(0.2),\n",
    "    layers.Dense(256, activation='relu'),\n",
    "    layers.BatchNormalization(),\n",
    "    layers.Dropout(0.2),\n",
    "    layers.Dense(5, activation='softmax')  \n",
    "])\n",
    "\n",
    "model.compile(optimizer=tf.keras.optimizers.Adam(learning_rate=1e-5),\n",
    "              loss='categorical_crossentropy',\n",
    "              metrics=['accuracy'])\n",
    "\n",
    "\n",
    "# import tensorflow as tf\n",
    "# from tensorflow.keras import layers, models\n",
    "# from tensorflow.keras.applications import EfficientNetB0\n",
    "\n",
    "# # Load the base model with pre-trained weights\n",
    "# base_model = EfficientNetB0(input_shape=(224, 224, 3), include_top=False, weights='imagenet')\n",
    "\n",
    "# # Set the base model layers to be trainable or frozen as needed\n",
    "# base_model.trainable = True\n",
    "\n",
    "# # Optionally freeze the first few layers to prevent overfitting\n",
    "# for layer in base_model.layers[:100]:\n",
    "#     layer.trainable = False\n",
    "\n",
    "# # Create a new model on top of the base model\n",
    "# model = models.Sequential([\n",
    "#     layers.Input(shape=(224, 224, 3)),\n",
    "#     base_model,\n",
    "#     layers.GlobalAveragePooling2D(),\n",
    "#     layers.Dropout(0.2),\n",
    "#     layers.Dense(256, activation='relu'),\n",
    "#     layers.BatchNormalization(),\n",
    "#     layers.Dropout(0.2),\n",
    "#     layers.Dense(5, activation='softmax')  # 5 classes for tomato classification\n",
    "# ])\n",
    "\n",
    "# # Compile the model\n",
    "# model.compile(optimizer=tf.keras.optimizers.Adam(learning_rate=1e-5),\n",
    "#               loss='categorical_crossentropy',\n",
    "#               metrics=['accuracy'])\n",
    "\n",
    "# # Summary of the model\n",
    "# model.summary()\n"
   ]
  },
  {
   "cell_type": "code",
   "execution_count": null,
   "id": "3e785605-2374-4a03-8d3f-ca6d65687204",
   "metadata": {},
   "outputs": [],
   "source": []
  },
  {
   "cell_type": "code",
   "execution_count": 24,
   "id": "bdb30071-28d1-458c-8afe-8a295b18fec0",
   "metadata": {},
   "outputs": [
    {
     "name": "stdout",
     "output_type": "stream",
     "text": [
      "39/39 [==============================] - 7s 161ms/step - loss: 0.5975 - accuracy: 0.7692\n",
      "Test accuracy: 0.7692\n"
     ]
    }
   ],
   "source": [
    "# Evaluate the model on the test set\n",
    "test_loss, test_accuracy = model.evaluate(test_generator, steps=test_generator.samples // BATCH_SIZE)\n",
    "print(f\"Test accuracy: {test_accuracy:.4f}\")\n"
   ]
  },
  {
   "cell_type": "code",
   "execution_count": 2,
   "id": "be03fe3f-bb43-4ed3-bf4a-298d04f42742",
   "metadata": {},
   "outputs": [
    {
     "ename": "NameError",
     "evalue": "name 'base_model' is not defined",
     "output_type": "error",
     "traceback": [
      "\u001b[1;31m---------------------------------------------------------------------------\u001b[0m",
      "\u001b[1;31mNameError\u001b[0m                                 Traceback (most recent call last)",
      "Cell \u001b[1;32mIn[2], line 2\u001b[0m\n\u001b[0;32m      1\u001b[0m \u001b[38;5;66;03m# Save the model\u001b[39;00m\n\u001b[1;32m----> 2\u001b[0m \u001b[43mbase_model\u001b[49m\u001b[38;5;241m.\u001b[39msave(\u001b[38;5;124m'\u001b[39m\u001b[38;5;124mtomato_classifier_tf.h5\u001b[39m\u001b[38;5;124m'\u001b[39m)\n",
      "\u001b[1;31mNameError\u001b[0m: name 'base_model' is not defined"
     ]
    }
   ],
   "source": [
    "# Save the model\n",
    "base_model.save('tomato_classifier_tf.h5')\n"
   ]
  },
  {
   "cell_type": "code",
   "execution_count": null,
   "id": "8909ecd9-3da7-4f95-8225-b0807289b624",
   "metadata": {},
   "outputs": [],
   "source": [
    "import tensorflow as tf\n",
    "\n",
    "# Load the saved model\n",
    "model = tf.keras.models.load_model('tomato_classifier_tf.h5')\n",
    "\n",
    "\n",
    "model.compile(optimizer='adam',\n",
    "              loss='sparse_categorical_crossentropy',  \n",
    "              metrics=['accuracy'])  \n",
    "\n",
    "\n",
    "history = model.fit(x_train, y_train,  # Replace with your actual training data\n",
    "                    epochs=10,  # Number of additional epochs\n",
    "                    validation_data=(x_val, y_val))  # Replace with your actual validation data\n",
    "\n",
    "# Save the updated model (optional)\n",
    "model.save('tomato_classifier_tf_updated.h5')\n"
   ]
  },
  {
   "cell_type": "code",
   "execution_count": 14,
   "id": "e2046b9d-72ee-48f3-a87a-78d840602844",
   "metadata": {},
   "outputs": [
    {
     "name": "stdout",
     "output_type": "stream",
     "text": [
      "39/39 [==============================] - 6s 156ms/step - loss: 0.6102 - accuracy: 0.7628\n",
      "Test accuracy: 0.7628\n"
     ]
    }
   ],
   "source": [
    "# Evaluate the model on the test set\n",
    "test_loss, test_accuracy = model.evaluate(test_generator, steps=test_generator.samples // BATCH_SIZE)\n",
    "print(f\"Test accuracy: {test_accuracy:.4f}\")\n"
   ]
  },
  {
   "cell_type": "code",
   "execution_count": null,
   "id": "91e1c412-6652-4425-8632-2dbd5dad0a30",
   "metadata": {},
   "outputs": [],
   "source": [
    "history_fine = model.fit(\n",
    "    train_generator,\n",
    "    steps_per_epoch=train_generator.samples // BATCH_SIZE,\n",
    "    validation_data=validation_generator,\n",
    "    validation_steps=validation_generator.samples // BATCH_SIZE,\n",
    "    epochs=5\n",
    ")"
   ]
  },
  {
   "cell_type": "code",
   "execution_count": null,
   "id": "0507a06c-4c9c-402b-b206-b314b7c5ceab",
   "metadata": {},
   "outputs": [],
   "source": []
  },
  {
   "cell_type": "code",
   "execution_count": null,
   "id": "c106a808-0eda-4e09-a1d5-3b3913a786f7",
   "metadata": {},
   "outputs": [],
   "source": []
  }
 ],
 "metadata": {
  "kernelspec": {
   "display_name": "Python 3 (ipykernel)",
   "language": "python",
   "name": "python3"
  },
  "language_info": {
   "codemirror_mode": {
    "name": "ipython",
    "version": 3
   },
   "file_extension": ".py",
   "mimetype": "text/x-python",
   "name": "python",
   "nbconvert_exporter": "python",
   "pygments_lexer": "ipython3",
   "version": "3.9.18"
  }
 },
 "nbformat": 4,
 "nbformat_minor": 5
}
